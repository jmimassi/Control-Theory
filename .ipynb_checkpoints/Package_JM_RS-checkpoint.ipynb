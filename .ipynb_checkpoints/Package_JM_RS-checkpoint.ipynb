{
 "cells": [
  {
   "cell_type": "markdown",
   "id": "b0131ab0-265d-422c-8832-6f74d9443db2",
   "metadata": {},
   "source": [
    "# Package_JM_RS"
   ]
  },
  {
   "cell_type": "code",
   "execution_count": null,
   "id": "6269f3b9-8a33-4bf4-9d00-80ee6d485497",
   "metadata": {},
   "outputs": [],
   "source": [
    "import numpy as np\n",
    "import matplotlib.pyplot as plt\n",
    "from scipy.optimize import minimize\n",
    "from matplotlib import colors as mcolors\n",
    "\n",
    "import package_DBR\n",
    "from package_DBR import myRound, SelectPath_RT, Delay_RT, FO_RT, FOPDT, SOPDT, FOPDT_cost, SOPDT_cost, Process, Bode\n",
    "import package_JM_RS \n",
    "\n",
    "from package_JM_RS import LL_RT, Margins, PID_RT\n"
   ]
  },
  {
   "cell_type": "markdown",
   "id": "15999c06-ca52-43b8-afe8-7cc05dba9fcd",
   "metadata": {},
   "source": [
    "# LL_RT"
   ]
  },
  {
   "cell_type": "code",
   "execution_count": 7,
   "id": "d3f65aa6-a767-40a2-8f56-a42e5b40b1d0",
   "metadata": {},
   "outputs": [
    {
     "name": "stdout",
     "output_type": "stream",
     "text": [
      "Help on function LL_RT in module package_JM_RS:\n",
      "\n",
      "LL_RT(MV, Kp, Tlead, Tlag, Ts, PV, PVInit=0)\n",
      "    The function \"LL_RT\" needs to be included in a \"for or while loop\".\n",
      "    \n",
      "    :MV: input vector\n",
      "    :Kp: process gain\n",
      "    :Tlead: lead time constant [s]\n",
      "    :Tlag: lag time constant [s]\n",
      "    :Ts: sampling period [s]\n",
      "    :PV: output vector\n",
      "    :PVInit: (optional: default value is 0)\n",
      "    \n",
      "    The function \"LL_RT\" appends a value to the output vector \"PV\".\n",
      "    The appended value is obtained from a recurrent equation.\n",
      "\n"
     ]
    }
   ],
   "source": [
    "help(LL_RT)"
   ]
  },
  {
   "cell_type": "code",
   "execution_count": 8,
   "id": "d1d5cb69-ccc9-4840-b53f-3f5784ab5579",
   "metadata": {},
   "outputs": [
    {
     "data": {
      "text/plain": [
       "(0.0, 100.0)"
      ]
     },
     "execution_count": 8,
     "metadata": {},
     "output_type": "execute_result"
    },
    {
     "data": {
      "image/png": "[encoded data removed]",
      "text/plain": [
       "<Figure size 1080x648 with 2 Axes>"
      ]
     },
     "metadata": {
      "needs_background": "light"
     },
     "output_type": "display_data"
    }
   ],
   "source": [
    "TSim = 100\n",
    "Ts = 0.1\n",
    "N = int(TSim/Ts) + 1\n",
    "\n",
    "# Path for MV\n",
    "MVPath = {0: 0, 5: 1, 50: 2, 80: 3, TSim: 3}\n",
    "\n",
    "t = []\n",
    "MV = []\n",
    "MVDelay = []\n",
    "PV_EBD = []\n",
    "PV_EFD = []\n",
    "PV_TRAP = []\n",
    "\n",
    "# Parameters\n",
    "Kp = 1\n",
    "Tlead = 10\n",
    "Tlag = 5\n",
    "theta = 10\n",
    "\n",
    "for i in range(0,N):\n",
    "    t.append(i*Ts)\n",
    "    SelectPath_RT(MVPath,t,MV)\n",
    "    Delay_RT(MV,theta,Ts,MVDelay)\n",
    "    LL_RT(MVDelay,Kp,Tlead,Tlag,Ts,PV_EBD)\n",
    "\n",
    "    \n",
    "plt.figure(figsize = (15,9))\n",
    "\n",
    "plt.subplot(2,1,1)\n",
    "plt.step(t,MV,'b-',label='MV',where='post')\n",
    "plt.step(t,MVDelay,'b-',linewidth=0.5,label='MV plus delay',where='post')\n",
    "plt.ylabel('Value of MV')\n",
    "plt.title('First order plus delay response')\n",
    "plt.legend(loc='best')\n",
    "plt.xlim([0, TSim])\n",
    "\n",
    "plt.subplot(2,1,2)\n",
    "plt.step(t,PV_EBD,'g-',label='First order response plus delay (EBD)',where='post')\n",
    "plt.ylabel('Value of PV')\n",
    "plt.xlabel('Time [s]')\n",
    "plt.legend(loc='best')\n",
    "plt.xlim([0, TSim])   "
   ]
  },
  {
   "cell_type": "markdown",
   "id": "c91b5f56",
   "metadata": {},
   "source": [
    "# Margins()"
   ]
  },
  {
   "cell_type": "code",
   "execution_count": 9,
   "id": "a5e9d07a-2630-42c9-aaf4-5862f40d9ce0",
   "metadata": {},
   "outputs": [
    {
     "name": "stdout",
     "output_type": "stream",
     "text": [
      "Help on function Margins in module package_JM_RS:\n",
      "\n",
      "Margins(P, C, omega, Show=True)\n",
      "    :P: Process as defined by the class \"Process\".\n",
      "        Use the following command to define the default process which is simply a unit gain process:\n",
      "            P = Process({})\n",
      "        \n",
      "        A delay, two lead time constants and 2 lag constants can be added.\n",
      "        \n",
      "        Use the following commands for a SOPDT process:\n",
      "            P.parameters['Kp'] = 1.1\n",
      "            P.parameters['Tlag1'] = 10.0\n",
      "            P.parameters['Tlag2'] = 2.0\n",
      "            P.parameters['theta'] = 2.0\n",
      "        \n",
      "        Use the following commands for a unit gain Lead-lag process:\n",
      "            P.parameters['Tlag1'] = 10.0        \n",
      "            P.parameters['Tlead1'] = 15.0   \n",
      "            \n",
      "    :C: Controller as defined by the class \"PID\".\n",
      "        Use the following command to define the default process which is simply a unit gain process:\n",
      "            C = PID({})\n",
      "        \n",
      "        Use the following commands for a PID Controller:\n",
      "            C.parameters['Kc'] = 1.1\n",
      "            C.parameters['Ti'] = 10.0\n",
      "            C.parameters['Td'] = 2.0\n",
      "            C.parameters['alpha'] = 1\n",
      "        \n",
      "        Use the following commands for a unit gain PID:\n",
      "            C.parameters['Ti'] = 10.0        \n",
      "            C.parameters['Td'] = 15.0 \n",
      "        \n",
      "    :omega: frequency vector (rad/s); generated by a command of the type \"omega = np.logspace(-2, 2, 10000)\".\n",
      "    :Show: boolean value (optional: default value = True). If Show = True, the Bode diagram is shown. Otherwise Ps (P(j omega)) (vector of complex numbers) is returned.\n",
      "    \n",
      "    The function \"Margins\" generates the Bode diagram of the process P*C and prints the margins of the system.\n",
      "\n"
     ]
    }
   ],
   "source": [
    "help(Margins)"
   ]
  },
  {
   "cell_type": "code",
   "execution_count": 10,
   "id": "c173a69a",
   "metadata": {},
   "outputs": [
    {
     "name": "stdout",
     "output_type": "stream",
     "text": [
      "Gain margin :  -37.36997  at  0.89721  rad/s\n",
      "Phase margin :  83.77624  at  0.00892  rad/s\n"
     ]
    },
    {
     "data": {
      "image/png": "[encoded data removed]",
      "text/plain": [
       "<Figure size 1584x864 with 2 Axes>"
      ]
     },
     "metadata": {
      "needs_background": "light"
     },
     "output_type": "display_data"
    }
   ],
   "source": [
    "from package_JM_RS import PID,Margins\n",
    "from package_DBR import Process\n",
    "import numpy as np\n",
    "\n",
    "P = Process({}) # Defaultprocess = unit gain\n",
    "\n",
    "P.parameters['Kp'] = 0.63\n",
    "P.parameters['Tlag1'] = 146.0\n",
    "P.parameters['Tlag2'] = 1.0\n",
    "P.parameters['theta'] = 1.0\n",
    "\n",
    "\n",
    "C = PID({})\n",
    "C.parameters['Kc'] = 1.9\n",
    "C.parameters['Ti'] = 110.0\n",
    "C.parameters['Td'] = 10.0\n",
    "C.parameters['alpha'] = 1.0\n",
    "\n",
    "omega = np.logspace(-4,1,10000)\n",
    "\n",
    "Margins(P,C,omega)"
   ]
  },
  {
   "cell_type": "markdown",
   "id": "cee4dd8d-9f0e-476c-bd03-8efdaf3745f8",
   "metadata": {},
   "source": [
    "# PID_RT"
   ]
  },
  {
   "cell_type": "code",
   "execution_count": 11,
   "id": "8218f6fe-1c7a-4786-b2e1-74dd9c048f71",
   "metadata": {},
   "outputs": [
    {
     "ename": "TypeError",
     "evalue": "PID_RT() got an unexpected keyword argument 'Method'",
     "output_type": "error",
     "traceback": [
      "\u001b[1;31m---------------------------------------------------------------------------\u001b[0m",
      "\u001b[1;31mTypeError\u001b[0m                                 Traceback (most recent call last)",
      "\u001b[1;32m~\\AppData\\Local\\Temp/ipykernel_20520/3008232091.py\u001b[0m in \u001b[0;36m<module>\u001b[1;34m\u001b[0m\n\u001b[0;32m     46\u001b[0m     \u001b[0mSelectPath_RT\u001b[0m\u001b[1;33m(\u001b[0m\u001b[0mPVPath\u001b[0m\u001b[1;33m,\u001b[0m\u001b[0mt\u001b[0m\u001b[1;33m,\u001b[0m\u001b[0mPV\u001b[0m\u001b[1;33m)\u001b[0m\u001b[1;33m\u001b[0m\u001b[1;33m\u001b[0m\u001b[0m\n\u001b[0;32m     47\u001b[0m     \u001b[1;31m# PID_RT(SP,PV,Man,MVMan,MVFF,Kc,Ti,Td,alpha, Ts,MVMin,MVMax,MV,MV_P,MV_I,MV_D, E ,MV_FF = False, PVInit = 0, Method = 'EBD-EBD')\u001b[0m\u001b[1;33m\u001b[0m\u001b[1;33m\u001b[0m\u001b[0m\n\u001b[1;32m---> 48\u001b[1;33m     \u001b[0mPID_RT\u001b[0m\u001b[1;33m(\u001b[0m\u001b[0mSP\u001b[0m\u001b[1;33m,\u001b[0m\u001b[0mPV\u001b[0m\u001b[1;33m,\u001b[0m\u001b[1;33m[\u001b[0m\u001b[1;32mFalse\u001b[0m\u001b[1;33m]\u001b[0m\u001b[1;33m,\u001b[0m\u001b[1;33m[\u001b[0m\u001b[1;36m0\u001b[0m\u001b[1;33m]\u001b[0m\u001b[1;33m,\u001b[0m\u001b[1;33m[\u001b[0m\u001b[1;36m0\u001b[0m\u001b[1;33m]\u001b[0m\u001b[1;33m,\u001b[0m\u001b[0mKc\u001b[0m\u001b[1;33m,\u001b[0m\u001b[0mTi\u001b[0m\u001b[1;33m,\u001b[0m\u001b[0mTd\u001b[0m\u001b[1;33m,\u001b[0m\u001b[0malpha\u001b[0m\u001b[1;33m,\u001b[0m \u001b[0mTs\u001b[0m\u001b[1;33m,\u001b[0m\u001b[1;36m0\u001b[0m\u001b[1;33m,\u001b[0m\u001b[1;36m100\u001b[0m\u001b[1;33m,\u001b[0m\u001b[0mMV\u001b[0m\u001b[1;33m,\u001b[0m\u001b[0mMVP\u001b[0m\u001b[1;33m,\u001b[0m\u001b[0mMVI\u001b[0m\u001b[1;33m,\u001b[0m\u001b[0mMVD\u001b[0m\u001b[1;33m,\u001b[0m\u001b[0mE\u001b[0m\u001b[1;33m,\u001b[0m\u001b[1;32mFalse\u001b[0m\u001b[1;33m,\u001b[0m\u001b[1;36m10\u001b[0m\u001b[1;33m,\u001b[0m\u001b[1;36m5\u001b[0m\u001b[1;33m,\u001b[0m\u001b[0mMethod\u001b[0m \u001b[1;33m=\u001b[0m \u001b[1;34m'EBD-EBD'\u001b[0m\u001b[1;33m)\u001b[0m\u001b[1;33m\u001b[0m\u001b[1;33m\u001b[0m\u001b[0m\n\u001b[0m\u001b[0;32m     49\u001b[0m \u001b[1;33m\u001b[0m\u001b[0m\n\u001b[0;32m     50\u001b[0m \u001b[1;33m\u001b[0m\u001b[0m\n",
      "\u001b[1;31mTypeError\u001b[0m: PID_RT() got an unexpected keyword argument 'Method'"
     ]
    }
   ],
   "source": [
    "import numpy as np\n",
    "import matplotlib.pyplot as plt\n",
    "from scipy.optimize import minimize\n",
    "from matplotlib import colors as mcolors\n",
    "\n",
    "import package_DBR\n",
    "from package_DBR import myRound, SelectPath_RT, Delay_RT, FO_RT, FOPDT, SOPDT, FOPDT_cost, SOPDT_cost, Process, Bode\n",
    "from package_JM_RS import LL_RT, PID_RT, IMC_Tuning\n",
    "\n",
    "\n",
    "TSim = 50\n",
    "Ts = 0.01\n",
    "N = int(TSim/Ts) + 1\n",
    "\n",
    "# Path for MV\n",
    "SPPath = {0: 50, 5: 60, TSim: 5}\n",
    "PVPath = {0: 50, 5: 50, TSim: 5}\n",
    "SP = []\n",
    "PV = []\n",
    "\n",
    "t = []\n",
    "MV = []\n",
    "MVP = []\n",
    "MVI = []\n",
    "MVD = []\n",
    "MVDelay = []\n",
    "PV_EBD = []\n",
    "PV_EFD = []\n",
    "PV_TRAP = []\n",
    "E = []\n",
    "\n",
    "# Parameters\n",
    "Kp = 1\n",
    "Tlead = 10\n",
    "Tlag = 5\n",
    "theta = 10\n",
    "\n",
    "Kc = 1.1\n",
    "Ti = 10\n",
    "Td = 5\n",
    "alpha = 0.5\n",
    "\n",
    "for i in range(0,N):\n",
    "    t.append(i*Ts)\n",
    "    SelectPath_RT(SPPath,t,SP)\n",
    "    SelectPath_RT(PVPath,t,PV)\n",
    "    # PID_RT(SP,PV,Man,MVMan,MVFF,Kc,Ti,Td,alpha, Ts,MVMin,MVMax,MV,MV_P,MV_I,MV_D, E ,MV_FF = False, PVInit = 0, Method = 'EBD-EBD')\n",
    "    PID_RT(SP,PV,[False],[0],[0],Kc,Ti,Td,alpha, Ts,0,100,MV,MVP,MVI,MVD,E,False,10,5)\n",
    "\n",
    "\n",
    "plt.figure(figsize = (15,9))\n",
    "\n",
    "plt.subplot(2,1,1)\n",
    "plt.step(t,E,'k-',label='E',where='post')\n",
    "#plt.step(t,MVDelay,'b-',linewidth=0.5,label='MV plus delay',where='post')\n",
    "plt.ylabel('Value of MV')\n",
    "plt.title('First order plus delay response')\n",
    "plt.legend(loc='best')\n",
    "plt.xlim([0, TSim])\n",
    "\n",
    "plt.subplot(2,1,2)\n",
    "plt.step(t,MV,'b-',label='MV',where='post')\n",
    "#plt.step(t,MVDelay,'b-',linewidth=0.5,label='MV plus delay',where='post')\n",
    "plt.ylabel('Value of MV')\n",
    "plt.title('First order plus delay response')\n",
    "plt.legend(loc='best')\n",
    "plt.xlim([0, TSim])\n",
    "\n",
    "plt.subplot(2,1,2)\n",
    "plt.step(t,MVP,'y--',label='MVP',where='post')\n",
    "#plt.step(t,MVDelay,'b-',linewidth=0.5,label='MV plus delay',where='post')\n",
    "plt.ylabel('Value of MV')\n",
    "plt.title('First order plus delay response')\n",
    "plt.legend(loc='best')\n",
    "plt.xlim([0, TSim])\n",
    "\n",
    "plt.subplot(2,1,2)\n",
    "plt.step(t,MVI,'g--',label='MVI',where='post')\n",
    "#plt.step(t,MVDelay,'b-',linewidth=0.5,label='MV plus delay',where='post')\n",
    "plt.ylabel('Value of MVI')\n",
    "plt.title('First order plus delay response')\n",
    "plt.legend(loc='best')\n",
    "plt.xlim([0, TSim])\n",
    "\n",
    "plt.subplot(2,1,2)\n",
    "plt.step(t,MVD,'r--',label='MVD',where='post')\n",
    "#plt.step(t,MVDelay,'b-',linewidth=0.5,label='MV plus delay',where='post')\n",
    "plt.ylabel('Value of MVS')\n",
    "plt.title('First order plus delay response')\n",
    "plt.legend(loc='best')\n",
    "plt.xlim([0, TSim])\n",
    "\n",
    " "
   ]
  },
  {
   "cell_type": "markdown",
   "id": "56a4faa4-a265-4285-bbf1-eebde82b096e",
   "metadata": {},
   "source": [
    "# Closed-loop parameters for PID with FF"
   ]
  },
  {
   "cell_type": "code",
   "execution_count": null,
   "id": "698aaa65-0efc-4e7a-907e-3877098bd7c4",
   "metadata": {},
   "outputs": [],
   "source": [
    "# Paramètres de simulation\n",
    "\n",
    "Tsim = 2200\n",
    "Ts = 1\n",
    "N = int(Tsim/Ts) + 1\n",
    "\n",
    "MV0 = 50\n",
    "DV0 = 50\n",
    "PV0 = 65\n",
    "\n",
    "Kp = 0.5194904467673822\n",
    "T1p = 129.9860279570493\n",
    "T2p = 2.2419668343920548e-08 # Bizarre => à verifier\n",
    "thetap = 7.219217782540495\n",
    "\n",
    "Kd = 0.5066617883318505\n",
    "T1d = 198.90601996256459\n",
    "T2d = 8.124468051389487\n",
    "thetad = 1.0918143519352412\n",
    "\n",
    "gamma = 0.5\n",
    "\n",
    "Kc,Ti,Td = IMC_Tuning(Kp,T1p,T2p,thetap)\n",
    "\n",
    "\n",
    "\n",
    "#1 OLP + no FF\n",
    "\n",
    "# ManPath = {0 : True,Tsim : True}\n",
    "# MVManPath = {0 : MV0, Tsim : MV0}\n",
    "# SPPath = {0 : PV0, 800 : PV0}\n",
    "# DVPath = {0 : 50, 1000 : 60, Tsim : 60}\n",
    "# ActivateFF = False\n",
    "# ManFF = True\n",
    "\n",
    "#2 OLP + FF\n",
    "\n",
    "# ManPath = {0 : True,Tsim : False}\n",
    "# MVManPath = {0 : MV0, Tsim : MV0}\n",
    "# SPPath = {0 : PV0, 800 : PV0}\n",
    "# DVPath = {0 : 50, 1000 : 60, Tsim : 60}\n",
    "# ActivateFF = True\n",
    "# ManFF = True\n",
    "\n",
    "#3 CLP + no FF\n",
    "\n",
    "# ManPath = {0 : True, 750: False, Tsim : False}\n",
    "# MVManPath = {0 : MV0, Tsim : MV0}\n",
    "# SPPath = {0 : PV0, 800 : PV0-10, Tsim : PV0-10}\n",
    "# DVPath = {0 : DV0, 1500 : DV0+10, Tsim : DV0+10}\n",
    "# ActivateFF = False\n",
    "# ManFF = False\n",
    "\n",
    "#4 CLP + FF\n",
    "\n",
    "ManPath = {0 : True, 750: False, Tsim : False}\n",
    "MVManPath = {0 : MV0, Tsim : MV0}\n",
    "SPPath = {0 : PV0, 800 : PV0-10, Tsim : PV0-10}\n",
    "DVPath = {0 : DV0, 1500 : DV0+10, Tsim : DV0+10}\n",
    "ActivateFF = True\n",
    "ManFF = False"
   ]
  },
  {
   "cell_type": "markdown",
   "id": "9ea8d925-7d89-47e6-92a1-512c94bc67ae",
   "metadata": {},
   "source": [
    "# Closed-loop simulation of a PID with FF"
   ]
  },
  {
   "cell_type": "code",
   "execution_count": null,
   "id": "d9be48db-6d45-4d47-b39e-c95c816b59d6",
   "metadata": {},
   "outputs": [],
   "source": [
    "t = []\n",
    "SP = [] \n",
    "MV = [] \n",
    "Man = []\n",
    "MVMan = []\n",
    "MVFF = []\n",
    "MVP = []\n",
    "MVI = []\n",
    "MVD = []\n",
    "DV = [] \n",
    "PV = [] \n",
    "E = []\n",
    "\n",
    "MVFFDelay = []\n",
    "MVFFLL1 = [] \n",
    "\n",
    "\n",
    "MVDelayp = [] \n",
    "PV1p = [] \n",
    "PV2p = []\n",
    "\n",
    "MVDelayd = [] \n",
    "PV1d = []\n",
    "PV2d = []\n",
    "MVMin = 0\n",
    "MVMax = 500\n",
    "\n",
    "for i in range(0,N): \n",
    "    t.append(i*Ts)\n",
    "    \n",
    "    SelectPath_RT(SPPath,t,SP)\n",
    "    SelectPath_RT(DVPath,t,DV)\n",
    "    \n",
    "    Delay_RT(DV - DV0*np.ones_like(DV),np.max([thetad-thetap,0]),Ts,MVFFDelay)\n",
    "    LL_RT(MVFFDelay,-Kd/Kp,T1p,T1d,Ts,MVFFLL1)\n",
    "\n",
    "    if ActivateFF :\n",
    "        LL_RT(MVFFLL1,1,T2p,T2d,Ts,MVFF)\n",
    "    else : \n",
    "        LL_RT(MVFFLL1,0,T2p,T2d,Ts,MVFF)\n",
    "    \n",
    "    SelectPath_RT(ManPath,t,Man)\n",
    "    SelectPath_RT(MVManPath,t,MVMan)\n",
    "\n",
    "    PID_RT(SP,PV,Man,MVMan,MVFF,Kc,Ti,Td,alpha,Ts,MVMin,MVMax,MV,MVP,MVI,MVD,E,ManFF,PV0)\n",
    "\n",
    "    Delay_RT(MV,thetap,Ts,MVDelayp,MV0)\n",
    "    FO_RT(MVDelayp,Kp,T1p,Ts,PV1p,0)\n",
    "    FO_RT(PV1p,1,T2p,Ts,PV2p,0)\n",
    "\n",
    "    Delay_RT(DV - DV0*np.ones_like(DV),thetad,Ts,MVDelayd,0)\n",
    "    FO_RT(MVDelayd,Kd,T1d,Ts,PV1d,0)\n",
    "    FO_RT(PV1d,1,T2d,Ts,PV2d,0)\n",
    "\n",
    "    PV.append(PV2p[-1] + PV2d[-1] + PV0-Kp*MV0)\n",
    "\n",
    "\n"
   ]
  },
  {
   "cell_type": "markdown",
   "id": "80ea655b-00c1-4653-bf4f-c0f967619e74",
   "metadata": {},
   "source": [
    "# Plot data"
   ]
  },
  {
   "cell_type": "code",
   "execution_count": null,
   "id": "b2c61919-7f72-48c9-a86a-ed406cc922bb",
   "metadata": {},
   "outputs": [],
   "source": [
    "fig, (ax1, ax2, ax3, ax4) = plt.subplots(4,1)\n",
    "fig.set_figheight(22)\n",
    "fig.set_figwidth(22)\n",
    "\n",
    "l1, = ax1.step([0,t[-1]],[0,100],'k-',linewidth=2,label='Man',where='post')\n",
    "ax1.set_ylabel('Value of man [0 or 1]')\n",
    "ax1.set_title('Closed-loop response with PID controller and FF')\n",
    "ax1.legend(loc='best')\n",
    "\n",
    "l2, = ax2.step([0,t[-1]],[0,100],'b-',linewidth=2,label='MV',where='post')\n",
    "ax2.set_ylabel('Value of MV [%]')\n",
    "ax2.legend(loc='best')\n",
    "\n",
    "\n",
    "l3, = ax3.step([0,t[-1]],[0,100],'k-',linewidth=2,label='SP',where='post')\n",
    "l4, = ax3.step([0,t[-1]],[0,100],'g-',linewidth=2,label='PV',where='post')\n",
    "ax3.set_ylabel('Value of PV [C°]')\n",
    "ax3.legend(loc='best')\n",
    "\n",
    "l5, = ax4.step([0,t[-1]],[0,100],'r-',linewidth=2,label='DV',where='post')\n",
    "ax4.set_xlabel('Time [s]')\n",
    "ax4.set_ylabel('Value of DV [%]')\n",
    "ax4.legend(loc='best')\n",
    "\n",
    "ManInt = [int(x) for x in Man]\n",
    "l1.set_data(t,ManInt)\n",
    "l2.set_data(t,MV)\n",
    "l3.set_data(t,SP)\n",
    "l4.set_data(t,PV)\n",
    "l5.set_data(t,DV)\n",
    "\n",
    "ax1.set_xlim(0, t[-1]+1)\n",
    "ax2.set_xlim(0, t[-1]+1)\n",
    "ax3.set_xlim(0, t[-1]+1)\n",
    "ax4.set_xlim(0, t[-1]+1)\n",
    "\n",
    "ax1.set_ylim(+0.1,1.1)\n",
    "ax2.set_ylim(myRound(np.min(MV),5)-5,myRound(np.max(MV),5)+5)\n",
    "ax3.set_ylim(myRound(np.min((np.min(PV),np.min(SP))),5)-5, myRound(np.max((np.max(PV),np.max(SP))),5)+5)\n",
    "ax4.set_ylim(myRound(np.min(DV),5)-5,myRound(np.max(DV),5)+5)"
   ]
  }
 ],
 "metadata": {
  "kernelspec": {
   "display_name": "Python 3 (ipykernel)",
   "language": "python",
   "name": "python3"
  },
  "language_info": {
   "codemirror_mode": {
    "name": "ipython",
    "version": 3
   },
   "file_extension": ".py",
   "mimetype": "text/x-python",
   "name": "python",
   "nbconvert_exporter": "python",
   "pygments_lexer": "ipython3",
   "version": "3.9.7"
  }
 },
 "nbformat": 4,
 "nbformat_minor": 5
}
