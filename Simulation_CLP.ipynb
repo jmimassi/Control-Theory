{
 "cells": [
  {
   "cell_type": "markdown",
   "id": "05959d36-1b10-4eda-b9ff-5902c5819e8b",
   "metadata": {},
   "source": [
    "# Imports "
   ]
  },
  {
   "cell_type": "code",
   "execution_count": 1,
   "id": "b35b55e4-0024-4df7-b70c-3ed6cab761a5",
   "metadata": {},
   "outputs": [],
   "source": [
    "import numpy as np\n",
    "import matplotlib.pyplot as plt\n",
    "from matplotlib import colors as mcolors\n",
    "\n",
    "import package_DBR\n",
    "from package_DBR import myRound, SelectPath_RT, Delay_RT, FO_RT, FOPDT, SOPDT,Process, Bode\n",
    "\n",
    "import package_JM_RS \n",
    "from package_JM_RS import LL_RT, Margins, PID_RT, IMC_Tuning\n",
    "\n",
    "from ipywidgets import interact, interactive, fixed, interact_manual\n",
    "import ipywidgets as widgets\n"
   ]
  },
  {
   "cell_type": "markdown",
   "id": "a8414b63-ad02-4dd6-a175-be7660fd4799",
   "metadata": {},
   "source": [
    "# LL_RT"
   ]
  },
  {
   "cell_type": "code",
   "execution_count": 2,
   "id": "f3c0ced1-c125-4631-953b-4b6d522d7490",
   "metadata": {},
   "outputs": [
    {
     "name": "stdout",
     "output_type": "stream",
     "text": [
      "Help on function LL_RT in module package_JM_RS:\n",
      "\n",
      "LL_RT(MV, Kp, Tlead, Tlag, Ts, PV, PVInit=0)\n",
      "    The function \"LL_RT\" needs to be included in a \"for or while loop\".\n",
      "    \n",
      "    :MV: input vector\n",
      "    :Kp: process gain\n",
      "    :Tlead: lead time constant [s]\n",
      "    :Tlag: lag time constant [s]\n",
      "    :Ts: sampling period [s]\n",
      "    :PV: output vector\n",
      "    :PVInit: (optional: default value is 0)\n",
      "    \n",
      "    The function \"LL_RT\" appends a value to the output vector \"PV\".\n",
      "    The appended value is obtained from a recurrent equation.\n",
      "    The used discretisation method is euler backward difference.\n",
      "\n"
     ]
    }
   ],
   "source": [
    "help(LL_RT)"
   ]
  },
  {
   "cell_type": "markdown",
   "id": "042269d0-4143-4425-8ac1-6cbc41b21508",
   "metadata": {},
   "source": [
    "# IMC_Tuning"
   ]
  },
  {
   "cell_type": "code",
   "execution_count": 3,
   "id": "a0117f45-a811-4d47-9e61-e72f37ba3387",
   "metadata": {},
   "outputs": [
    {
     "name": "stdout",
     "output_type": "stream",
     "text": [
      "Help on function IMC_Tuning in module package_JM_RS:\n",
      "\n",
      "IMC_Tuning(K, Tlag1, Tlag2, theta, gamma=0.5)\n",
      "    IMC_Tuning(K,Tlag1,TLag2,theta,gamma=0.5)\n",
      "    This function computes the optimised IMC PID tuning parameters for a SOPDT Process. \n",
      "    \n",
      "    :Kp: process gain\n",
      "    :Tlag1: first lag time constant [s]\n",
      "    :Tlag2: second lag time constant [s]\n",
      "    :theta: delay [s]\n",
      "    :gamma: used to compute the closed loop time constant TCLP [s] such as TCLP = gamma*T1p with T1p = main time constant of the process. (range for gamma is [0.2 ... 0.9], default value is 0.5)\n",
      "    \n",
      "    \n",
      "    returns (Kc,Ti,Td) that are the PID controller parameters\n",
      "\n"
     ]
    }
   ],
   "source": [
    "help(IMC_Tuning)"
   ]
  },
  {
   "cell_type": "markdown",
   "id": "a9ce1151-764c-44fa-8009-35ac3be865fd",
   "metadata": {},
   "source": [
    "# PID_RT"
   ]
  },
  {
   "cell_type": "code",
   "execution_count": 4,
   "id": "cf0a961c-8785-4fa6-9edb-44f6ea953925",
   "metadata": {},
   "outputs": [
    {
     "name": "stdout",
     "output_type": "stream",
     "text": [
      "Help on function PID_RT in module package_JM_RS:\n",
      "\n",
      "PID_RT(SP, PV, Man, MV_Man, MV_FF, Kc, Ti, Td, alpha, Ts, MVMin, MVMax, MV, MV_P, MV_I, MV_D, E, ManFF=False, PV_Init=0, E_init=0)\n",
      "    The function \"LL_RT\" needs to be included in a \"for or while loop\".\n",
      "    Inputs :\n",
      "    :SP: SP (or SetPoint) vector\n",
      "    :PV: PV (or Processed Value) vector\n",
      "    :Man: Man (or Manual controller mode) vector (True or False)\n",
      "    :MV_Man: MV_Man (or Manual value for MV) vector\n",
      "    :MV_FF: MV_FF (or FeedForward) vector\n",
      "    \n",
      "    \n",
      "    Parameters : \n",
      "    :Kc: controller gain\n",
      "    :Ti: integral time constant [s]\n",
      "    :Td: derivative time constant [s]\n",
      "    :alpha: Tfd = alpha*Td where Tfd is the derivative filter time constant [s]\n",
      "    :Ts: sampling period [s]\n",
      "    :MVMin: Minimum value for MV (used for saturation and anti wind-up)\n",
      "    :MVMax: Maximum value for MV (used for saturation and anti wind-up)\n",
      "    :ManFF: Activated FF in manual mode (optional: default value is False)\n",
      "    :PV_Init: Initial value for PV (optional : default value is 0) : used if PID_RT is ran first in the sequence and no value of PV are available yet.\n",
      "    \n",
      "    Outputs: \n",
      "    :MV: MV (or Manipulated Value ) vector\n",
      "    :MV_P: MV_P (or Propotional part of MV) vector\n",
      "    :MV_I: MV_I (or Integral part of MV) vector\n",
      "    :MV_D: MV_D (or Derivative part of MV) vector\n",
      "    :E: (or Controller error) vector\n",
      "    \n",
      "    \n",
      "    \n",
      "    The function \"PID_RT\" appends a value to the output vectors \"MV\", \"MV_P\", \"MV_I\", \"MV_D\".\n",
      "    The appended values are based on the PID algorithm, the controller mode, and feedforward.\n",
      "    The used discretisation method is euler backward difference. \n",
      "    Note that saturation of \"MV\" within the limits [MVMin MVMax] is implemented with anti wind-up.\n",
      "\n"
     ]
    }
   ],
   "source": [
    "help(PID_RT)"
   ]
  },
  {
   "cell_type": "markdown",
   "id": "258623b6-a2b7-4299-a8c5-9aee2b3aeab5",
   "metadata": {},
   "source": [
    "# Input parameters\n"
   ]
  },
  {
   "cell_type": "code",
   "execution_count": 12,
   "id": "99c9e1f3-71df-4619-a02f-ec79386aa429",
   "metadata": {},
   "outputs": [],
   "source": [
    "# Paramètres de simulation\n",
    "\n",
    "Tsim = 2200\n",
    "Ts = 1\n",
    "N = int(Tsim/Ts) + 1\n",
    "\n",
    "MV0 = 50\n",
    "DV0 = 50\n",
    "PV0 = 65\n",
    "\n",
    "Kp = 0.5194904467673822\n",
    "T1p = 129.9860279570493\n",
    "T2p = 2.2419668343920548e-08\n",
    "thetap = 7.219217782540495\n",
    "\n",
    "Kd = 0.5066617883318505\n",
    "T1d = 198.90601996256459\n",
    "T2d = 8.124468051389487\n",
    "thetad = 1.0918143519352412\n",
    "\n",
    "gamma = 0.5\n",
    "\n",
    "Kc,Ti,Td = IMC_Tuning(Kp,T1p,T2p,thetap)\n",
    "\n",
    "\n",
    "\n",
    "def f(x) : \n",
    "    #1 OLP + no FF\n",
    "    if x == 1 :\n",
    "        ManPath = {0 : True,Tsim : True}\n",
    "        MVManPath = {0 : MV0, Tsim : MV0}\n",
    "        SPPath = {0 : PV0, 800 : PV0}\n",
    "        DVPath = {0 : 50, 1000 : 60, Tsim : 60}\n",
    "        ActivateFF = False\n",
    "        ManFF = True\n",
    "\n",
    "    #2 OLP + FF\n",
    "    if x == 2 :\n",
    "        ManPath = {0 : True,Tsim : False}\n",
    "        MVManPath = {0 : MV0, Tsim : MV0}\n",
    "        SPPath = {0 : PV0, 800 : PV0}\n",
    "        DVPath = {0 : 50, 1000 : 60, Tsim : 60}\n",
    "        ActivateFF = True\n",
    "        ManFF = True\n",
    "\n",
    "    #3 CLP + no FF\n",
    "    if x == 3 :\n",
    "        ManPath = {0 : True, 750: False, Tsim : False}\n",
    "        MVManPath = {0 : MV0, Tsim : MV0}\n",
    "        SPPath = {0 : PV0, 800 : PV0-10, Tsim : PV0-10}\n",
    "        DVPath = {0 : DV0, 1500 : DV0+10, Tsim : DV0+10}\n",
    "        ActivateFF = False\n",
    "        ManFF = False\n",
    "    # Closed loop response to SP change\n",
    "    if x == 0 :\n",
    "        ManPath = {0 : False, 750: False, Tsim : False}\n",
    "        MVManPath = {0 : MV0, Tsim : MV0}\n",
    "        SPPath = {0 : PV0-10, 650 : PV0,1500:PV0-10, Tsim : PV0-10}\n",
    "        DVPath = {0 : DV0, 1500 : DV0 , Tsim : DV0 }\n",
    "        ActivateFF = False\n",
    "        ManFF = False\n",
    "\n",
    "    #4 CLP + FF\n",
    "    if x == 4 : \n",
    "        ManPath = {0 : True, 750: False, Tsim : False}\n",
    "        MVManPath = {0 : MV0, Tsim : MV0}\n",
    "        SPPath = {0 : PV0, 800 : PV0-10, Tsim : PV0-10}\n",
    "        DVPath = {0 : DV0, 1500 : DV0+10, Tsim : DV0+10}\n",
    "        ActivateFF = True\n",
    "        ManFF = False\n",
    "    return ManPath, MVManPath, SPPath, DVPath, ActivateFF, ManFF\n"
   ]
  },
  {
   "cell_type": "markdown",
   "id": "1d1e6b40-f79c-4f74-ba0e-dfe05bec2368",
   "metadata": {},
   "source": [
    "# Simulation "
   ]
  },
  {
   "cell_type": "code",
   "execution_count": 21,
   "id": "38a64e46-9337-4766-ae8d-f54dfcc27f90",
   "metadata": {},
   "outputs": [],
   "source": [
    "def g(x,alpha) : \n",
    "    ManPath, MVManPath, SPPath, DVPath, ActivateFF, ManFF = f(x)\n",
    "    t = []\n",
    "    SP = [] \n",
    "    MV = [] \n",
    "    Man = []\n",
    "    MVMan = []\n",
    "    MVFF = []\n",
    "    MVP = []\n",
    "    MVI = []\n",
    "    MVD = []\n",
    "    DV = [] \n",
    "    PV = [] \n",
    "    E = []\n",
    "\n",
    "    MVFFDelay = []\n",
    "    MVFFLL1 = [] \n",
    "\n",
    "\n",
    "\n",
    "    MVDelayp = [] \n",
    "    PV1p = [] \n",
    "    PV2p = []\n",
    "\n",
    "    MVDelayd = [] \n",
    "    PV1d = []\n",
    "    PV2d = []\n",
    "    MVMin = 0\n",
    "    MVMax = 500\n",
    "\n",
    "\n",
    "\n",
    "    for i in range(0,N): \n",
    "        t.append(i*Ts)\n",
    "\n",
    "        SelectPath_RT(SPPath,t,SP)\n",
    "        SelectPath_RT(DVPath,t,DV)\n",
    "\n",
    "        Delay_RT(DV - DV0*np.ones_like(DV),np.max([thetad-thetap,0]),Ts,MVFFDelay)\n",
    "        LL_RT(MVFFDelay,-Kd/Kp,T1p,T1d,Ts,MVFFLL1)\n",
    "\n",
    "        if ActivateFF :\n",
    "            LL_RT(MVFFLL1,1,T2p,T2d,Ts,MVFF)\n",
    "        else : \n",
    "            LL_RT(MVFFLL1,0,T2p,T2d,Ts,MVFF)\n",
    "\n",
    "        SelectPath_RT(ManPath,t,Man)\n",
    "        SelectPath_RT(MVManPath,t,MVMan)\n",
    "\n",
    "        PID_RT(SP,PV,Man,MVMan,MVFF,Kc,Ti,Td,alpha,Ts,MVMin,MVMax,MV,MVP,MVI,MVD,E,ManFF,PV0)\n",
    "\n",
    "        Delay_RT(MV,thetap,Ts,MVDelayp,MV0)\n",
    "        FO_RT(MVDelayp,Kp,T1p,Ts,PV1p,0)\n",
    "        FO_RT(PV1p,1,T2p,Ts,PV2p,0)\n",
    "\n",
    "        Delay_RT(DV - DV0*np.ones_like(DV),thetad,Ts,MVDelayd,0)\n",
    "        FO_RT(MVDelayd,Kd,T1d,Ts,PV1d,0)\n",
    "        FO_RT(PV1d,1,T2d,Ts,PV2d,0)\n",
    "\n",
    "        PV.append(PV2p[-1] + PV2d[-1] + PV0-Kp*MV0)\n",
    "    return t, MV, SP, PV, DV, Man\n",
    "\n",
    "\n",
    "\n"
   ]
  },
  {
   "cell_type": "markdown",
   "id": "4d7a3fe1-1a0b-48a6-882e-971a9b4d0df3",
   "metadata": {},
   "source": [
    "# Plot data"
   ]
  },
  {
   "cell_type": "code",
   "execution_count": 22,
   "id": "41d24266-0f04-4d50-9d46-f9b8e0a7c04f",
   "metadata": {},
   "outputs": [
    {
     "data": {
      "application/vnd.jupyter.widget-view+json": {
       "model_id": "18abb90c9b52437b85dcf97d2789b6a8",
       "version_major": 2,
       "version_minor": 0
      },
      "text/plain": [
       "interactive(children=(IntSlider(value=2, description='x', max=4), FloatSlider(value=0.0, description='alpha', …"
      ]
     },
     "metadata": {},
     "output_type": "display_data"
    }
   ],
   "source": [
    "\n",
    "def h(x,alpha) : \n",
    "    t, MV, SP, PV, DV, Man = g(x,alpha)\n",
    "    fig, (ax1, ax2, ax3, ax4) = plt.subplots(4,1)\n",
    "    fig.set_figheight(22)\n",
    "    fig.set_figwidth(22)\n",
    "\n",
    "    l1, = ax1.step([0,t[-1]],[0,100],'k-',linewidth=2,label='Man',where='post')\n",
    "    ax1.set_ylabel('Value of man [0 or 1]')\n",
    "    if x == 0 : \n",
    "        ax1.set_title('Closed-loop response to a change of SP')\n",
    "    if x == 1 : \n",
    "        ax1.set_title('Open-loop response with PID, no FF')\n",
    "    if x == 2 : \n",
    "        ax1.set_title('Open-loop response with PID and  FF')\n",
    "    if x == 3 : \n",
    "        ax1.set_title('Closed-loop response with PID, no FF')\n",
    "    if x == 4 : \n",
    "        ax1.set_title('Closed-loop response with PID and  FF')\n",
    "    \n",
    "    ax1.legend(loc='best')\n",
    "\n",
    "    l2, = ax2.step([0,t[-1]],[0,100],'b-',linewidth=2,label='MV',where='post')\n",
    "    ax2.set_ylabel('Value of MV [%]')\n",
    "    ax2.legend(loc='best')\n",
    "\n",
    "\n",
    "    l3, = ax3.step([0,t[-1]],[0,100],'k-',linewidth=2,label='SP',where='post')\n",
    "    l4, = ax3.step([0,t[-1]],[0,100],'g-',linewidth=2,label='PV',where='post')\n",
    "    ax3.set_ylabel('Value of PV [C°]')\n",
    "    ax3.legend(loc='best')\n",
    "\n",
    "    l5, = ax4.step([0,t[-1]],[0,100],'r-',linewidth=2,label='DV',where='post')\n",
    "    ax4.set_xlabel('Time [s]')\n",
    "    ax4.set_ylabel('Value of DV [%]')\n",
    "    ax4.legend(loc='best')\n",
    "\n",
    "    ManInt = [int(x) for x in Man]\n",
    "    l1.set_data(t,ManInt)\n",
    "    l2.set_data(t,MV)\n",
    "    l3.set_data(t,SP)\n",
    "    l4.set_data(t,PV)\n",
    "    l5.set_data(t,DV)\n",
    "\n",
    "    ax1.set_xlim(0, t[-1]+1)\n",
    "    ax2.set_xlim(0, t[-1]+1)\n",
    "    ax3.set_xlim(0, t[-1]+1)\n",
    "    ax4.set_xlim(0, t[-1]+1)\n",
    "\n",
    "    ax1.set_ylim(-0.1,1.1)\n",
    "    ax2.set_ylim(myRound(np.min(MV),5)-5,myRound(np.max(MV),5)+5)\n",
    "    ax3.set_ylim(myRound(np.min((np.min(PV),np.min(SP))),5)-5, myRound(np.max((np.max(PV),np.max(SP))),5)+5)\n",
    "    ax4.set_ylim(myRound(np.min(DV),5)-5,myRound(np.max(DV),5)+5)\n",
    "\n",
    "x = 4\n",
    "interact(h, x=(0,4), alpha = (0,1,0.1));\n",
    "\n",
    "\n",
    "\n",
    "\n",
    "# Changer la valeur du slider pour changer de simulation "
   ]
  },
  {
   "cell_type": "code",
   "execution_count": null,
   "id": "14da41f3-a590-4393-93ad-609e933b897a",
   "metadata": {},
   "outputs": [],
   "source": []
  },
  {
   "cell_type": "code",
   "execution_count": null,
   "id": "09b795d8-a798-404e-ba7d-16dc2523b815",
   "metadata": {},
   "outputs": [],
   "source": []
  }
 ],
 "metadata": {
  "kernelspec": {
   "display_name": "Python 3 (ipykernel)",
   "language": "python",
   "name": "python3"
  },
  "language_info": {
   "codemirror_mode": {
    "name": "ipython",
    "version": 3
   },
   "file_extension": ".py",
   "mimetype": "text/x-python",
   "name": "python",
   "nbconvert_exporter": "python",
   "pygments_lexer": "ipython3",
   "version": "3.9.7"
  }
 },
 "nbformat": 4,
 "nbformat_minor": 5
}
